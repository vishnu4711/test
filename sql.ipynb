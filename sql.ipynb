{
 "cells": [
  {
   "cell_type": "code",
   "execution_count": 1,
   "metadata": {},
   "outputs": [
    {
     "data": {
      "text/plain": [
       "True"
      ]
     },
     "execution_count": 1,
     "metadata": {},
     "output_type": "execute_result"
    }
   ],
   "source": [
    "import mysql.connector as connection\n",
    "db = connection.connect(host=\"localhost\",user=\"root\",passwd=\"!D0nn0dread\",use_pure=True)\n",
    "db.is_connected()"
   ]
  },
  {
   "cell_type": "code",
   "execution_count": 4,
   "metadata": {},
   "outputs": [
    {
     "data": {
      "text/plain": [
       "[('information_schema',),\n",
       " ('jooooooo',),\n",
       " ('lid',),\n",
       " ('lrid',),\n",
       " ('mysql',),\n",
       " ('performance_schema',),\n",
       " ('po',),\n",
       " ('sakila',),\n",
       " ('speaker',),\n",
       " ('sys',),\n",
       " ('world',)]"
      ]
     },
     "execution_count": 4,
     "metadata": {},
     "output_type": "execute_result"
    }
   ],
   "source": [
    "query = \"SHOW DATABASES\"\n",
    "cursor = db.cursor()\n",
    "cursor.execute(query)\n",
    "cursor.fetchall()"
   ]
  },
  {
   "cell_type": "code",
   "execution_count": 3,
   "metadata": {},
   "outputs": [],
   "source": [
    "query = \"CREATE DATABASE speaker\"\n",
    "cursor.execute(query)"
   ]
  },
  {
   "cell_type": "code",
   "execution_count": 7,
   "metadata": {},
   "outputs": [],
   "source": [
    "db = connection.connect(host=\"localhost\",user=\"root\",passwd=\"!D0nn0dread\",use_pure=True,database=\"speaker\")\n",
    "query = \"CREATE TABLE blt_speaker (Brand varchar(60),price int(10))\"\n",
    "cursor = db.cursor()\n",
    "cursor.execute(query)"
   ]
  },
  {
   "cell_type": "code",
   "execution_count": 8,
   "metadata": {},
   "outputs": [],
   "source": [
    "db = connection.connect(host=\"localhost\",user=\"root\",passwd=\"!D0nn0dread\",use_pure=True,database=\"speaker\")\n",
    "query = \"INSERT INTO blt_speaker VALUES ('JBL','2000')\"\n",
    "cursor = db.cursor()\n",
    "cursor.execute(query)"
   ]
  },
  {
   "cell_type": "code",
   "execution_count": 9,
   "metadata": {},
   "outputs": [],
   "source": [
    "db = connection.connect(host=\"localhost\",user=\"root\",passwd=\"!D0nn0dread\",use_pure=True,database=\"speaker\")\n",
    "query = \"select * from blt_speaker;\"\n",
    "cursor = db.cursor()\n",
    "cursor.execute(query)\n",
    "for i in cursor.fetchall():\n",
    "    print(i)"
   ]
  },
  {
   "cell_type": "code",
   "execution_count": null,
   "metadata": {},
   "outputs": [],
   "source": []
  }
 ],
 "metadata": {
  "kernelspec": {
   "display_name": "Python 3",
   "language": "python",
   "name": "python3"
  },
  "language_info": {
   "codemirror_mode": {
    "name": "ipython",
    "version": 3
   },
   "file_extension": ".py",
   "mimetype": "text/x-python",
   "name": "python",
   "nbconvert_exporter": "python",
   "pygments_lexer": "ipython3",
   "version": "3.8.5"
  }
 },
 "nbformat": 4,
 "nbformat_minor": 4
}
